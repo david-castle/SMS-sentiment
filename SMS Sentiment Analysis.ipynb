{
 "cells": [
  {
   "cell_type": "markdown",
   "id": "e4bbb7b4",
   "metadata": {},
   "source": [
    "# Sentiment Analysis for Text Messages"
   ]
  },
  {
   "cell_type": "markdown",
   "id": "711e90ff",
   "metadata": {},
   "source": [
    "1. Import required libraries"
   ]
  },
  {
   "cell_type": "code",
   "execution_count": 55,
   "id": "f37e8d5b",
   "metadata": {},
   "outputs": [],
   "source": [
    "import nltk.corpus\n",
    "#nltk.download('stopwords')\n",
    "import re\n",
    "import pandas as pd\n",
    "import plotly.express as px\n",
    "import transformers\n",
    "\n",
    "from nltk.corpus import stopwords\n",
    "from tqdm import tqdm\n",
    "from transformers import pipeline"
   ]
  },
  {
   "cell_type": "markdown",
   "id": "8fd911ea",
   "metadata": {},
   "source": [
    "2. Define main methods to be used"
   ]
  },
  {
   "cell_type": "code",
   "execution_count": 56,
   "id": "537baaac",
   "metadata": {},
   "outputs": [],
   "source": [
    "def clean_string(text):\n",
    "    # Remove unicode characters\n",
    "    text = re.sub(r\"(@\\[A-Za-z0-9]+)|([^0-9A-Za-z \\t])|(\\w+:\\/\\/\\S+)|^rt|http.+?\", \"\", text)\n",
    "    # Remove numbers\n",
    "    text_filtered = [re.sub(r'\\w*\\d\\w*', '', w) for w in text]\n",
    "    # Make lower\n",
    "    text = text.lower()\n",
    "    return text\n",
    "\n",
    "def remove_stopwords(text):\n",
    "    # Remove stop words\n",
    "    stop = stopwords.words('english')\n",
    "    text = \" \".join([word for word in text.split() if word not in (stop)])\n",
    "    return text\n",
    "\n",
    "def sentiment_label(text):\n",
    "    sentiment = model(text)\n",
    "    return sentiment\n",
    "\n",
    "def get_label(list):\n",
    "    label = list[0]['label']\n",
    "    return label"
   ]
  },
  {
   "cell_type": "markdown",
   "id": "7138a92f",
   "metadata": {},
   "source": [
    "3. Instantiate model to be used for the sentiment analysis"
   ]
  },
  {
   "cell_type": "code",
   "execution_count": 57,
   "id": "1911d2f5",
   "metadata": {},
   "outputs": [],
   "source": [
    "model = pipeline(\"sentiment-analysis\",model=\"siebert/sentiment-roberta-large-english\")"
   ]
  },
  {
   "cell_type": "markdown",
   "id": "dd152b16",
   "metadata": {},
   "source": [
    "4. Read in the sample data and select columns to be maintained"
   ]
  },
  {
   "cell_type": "code",
   "execution_count": 58,
   "id": "ea0459ab",
   "metadata": {},
   "outputs": [],
   "source": [
    "df = pd.read_csv(\"clean_nus_sms.csv\", usecols=['id', 'Message', 'length', 'Date'])\n",
    "df.Message = df.Message.astype(str)"
   ]
  },
  {
   "cell_type": "markdown",
   "id": "889c2e43",
   "metadata": {},
   "source": [
    "5. Clean the text"
   ]
  },
  {
   "cell_type": "code",
   "execution_count": 59,
   "id": "eba0c4a7",
   "metadata": {},
   "outputs": [
    {
     "name": "stderr",
     "output_type": "stream",
     "text": [
      "Clean string: 100%|████████████████████| 48598/48598 [00:00<00:00, 50178.68it/s]\n"
     ]
    }
   ],
   "source": [
    "tqdm.pandas(desc=\"Clean string\")\n",
    "df['cleanedMessage'] = df.Message.progress_apply(clean_string)"
   ]
  },
  {
   "cell_type": "markdown",
   "id": "68b5bd57",
   "metadata": {},
   "source": [
    "6. Remove stopwords "
   ]
  },
  {
   "cell_type": "code",
   "execution_count": 60,
   "id": "f91a952e",
   "metadata": {},
   "outputs": [
    {
     "name": "stderr",
     "output_type": "stream",
     "text": [
      "Remove stopwords: 100%|████████████████| 48598/48598 [00:02<00:00, 20569.17it/s]\n"
     ]
    }
   ],
   "source": [
    "tqdm.pandas(desc=\"Remove stopwords\")\n",
    "df['cleanedMessage'] = df.cleanedMessage.progress_apply(remove_stopwords)"
   ]
  },
  {
   "cell_type": "markdown",
   "id": "d7a444ed",
   "metadata": {},
   "source": [
    "7. Run the model on the cleaned text to get sentiment scores"
   ]
  },
  {
   "cell_type": "code",
   "execution_count": null,
   "id": "509b29ac",
   "metadata": {},
   "outputs": [
    {
     "name": "stderr",
     "output_type": "stream",
     "text": [
      "Get sentiment:  12%|██▍                  | 5766/48598 [11:23<1:21:42,  8.74it/s]"
     ]
    }
   ],
   "source": [
    "tqdm.pandas(desc=\"Get sentiment\")\n",
    "df['sentiment'] = df.cleanedMessage.progress_apply(sentiment_label)"
   ]
  },
  {
   "cell_type": "markdown",
   "id": "70690b6c",
   "metadata": {},
   "source": [
    "8. Assign sentiment labels based on calculated scores"
   ]
  },
  {
   "cell_type": "code",
   "execution_count": null,
   "id": "4add7232",
   "metadata": {},
   "outputs": [],
   "source": [
    "tqdm.pandas(desc=\"Get label value\")\n",
    "df['sentiment_label'] = df.sentiment.progress_apply(get_label)"
   ]
  },
  {
   "cell_type": "markdown",
   "id": "a660a330",
   "metadata": {},
   "source": [
    "9. Display histogram of assigned values"
   ]
  },
  {
   "cell_type": "code",
   "execution_count": null,
   "id": "3784ffe2",
   "metadata": {},
   "outputs": [],
   "source": [
    "fig = px.histogram(df, x=\"sentiment_label\", color='sentiment_label', histfunc='sum', title=\"Text message sentiment\")\n",
    "fig.show()"
   ]
  },
  {
   "cell_type": "markdown",
   "id": "1f730c17",
   "metadata": {},
   "source": [
    "10. Further considerations could be the usage of different trained models to compare or train your own sentiment model. "
   ]
  }
 ],
 "metadata": {
  "kernelspec": {
   "display_name": "Python 3 (ipykernel)",
   "language": "python",
   "name": "python3"
  },
  "language_info": {
   "codemirror_mode": {
    "name": "ipython",
    "version": 3
   },
   "file_extension": ".py",
   "mimetype": "text/x-python",
   "name": "python",
   "nbconvert_exporter": "python",
   "pygments_lexer": "ipython3",
   "version": "3.11.2"
  }
 },
 "nbformat": 4,
 "nbformat_minor": 5
}
